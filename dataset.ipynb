{
 "cells": [
  {
   "cell_type": "code",
   "execution_count": 1,
   "metadata": {},
   "outputs": [],
   "source": [
    "import pandas as pd\n",
    "import numpy as np"
   ]
  },
  {
   "cell_type": "code",
   "execution_count": 2,
   "metadata": {},
   "outputs": [
    {
     "data": {
      "text/html": [
       "<div>\n",
       "<style scoped>\n",
       "    .dataframe tbody tr th:only-of-type {\n",
       "        vertical-align: middle;\n",
       "    }\n",
       "\n",
       "    .dataframe tbody tr th {\n",
       "        vertical-align: top;\n",
       "    }\n",
       "\n",
       "    .dataframe thead th {\n",
       "        text-align: right;\n",
       "    }\n",
       "</style>\n",
       "<table border=\"1\" class=\"dataframe\">\n",
       "  <thead>\n",
       "    <tr style=\"text-align: right;\">\n",
       "      <th></th>\n",
       "      <th>sentence</th>\n",
       "      <th>source</th>\n",
       "      <th>google</th>\n",
       "      <th>deepl</th>\n",
       "    </tr>\n",
       "  </thead>\n",
       "  <tbody>\n",
       "    <tr>\n",
       "      <th>0</th>\n",
       "      <td>The woman who died after falling from a bridge...</td>\n",
       "      <td>https://www.kentlive.news/news/sevenoaks-mum-w...</td>\n",
       "      <td>Женщина, погибшая после падения с моста через ...</td>\n",
       "      <td>Женщина, погибшая после падения с моста через ...</td>\n",
       "    </tr>\n",
       "    <tr>\n",
       "      <th>1</th>\n",
       "      <td>messaging system designed as a plugin-based sy...</td>\n",
       "      <td>https://jmtd.net/log/geek/linux/ui/</td>\n",
       "      <td>система обмена сообщениями, разработанная как ...</td>\n",
       "      <td>система обмена сообщениями, созданная как сист...</td>\n",
       "    </tr>\n",
       "    <tr>\n",
       "      <th>2</th>\n",
       "      <td>CHARLES H. MEISNER, one of the prosperous and ...</td>\n",
       "      <td>http://synergistic-technologies.com/biocmeisne...</td>\n",
       "      <td>ЧАРЛЬЗ Х. МЕЙСНЕР, один из преуспевающих и ува...</td>\n",
       "      <td>Чарльз Х. Майснер, один из преуспевающих и ува...</td>\n",
       "    </tr>\n",
       "    <tr>\n",
       "      <th>3</th>\n",
       "      <td>EVER WONDER WHY SOME PEOPLE CAN WORK NIGHTS AN...</td>\n",
       "      <td>https://www.spineprochiropractic.com/sleep-why...</td>\n",
       "      <td>Вы когда-нибудь задумывались, почему некоторые...</td>\n",
       "      <td>ВЫ КОГДА-НИБУДЬ ЗАДУМЫВАЛИСЬ, ПОЧЕМУ НЕКОТОРЫЕ...</td>\n",
       "    </tr>\n",
       "    <tr>\n",
       "      <th>4</th>\n",
       "      <td>Conduct effective product control and valuatio...</td>\n",
       "      <td>https://www.jobable.com/bank-of-china-jobs/hon...</td>\n",
       "      <td>Проводить эффективный продуктовый контроль и к...</td>\n",
       "      <td>Осуществлять эффективный продуктовый контроль ...</td>\n",
       "    </tr>\n",
       "  </tbody>\n",
       "</table>\n",
       "</div>"
      ],
      "text/plain": [
       "                                            sentence  \\\n",
       "0  The woman who died after falling from a bridge...   \n",
       "1  messaging system designed as a plugin-based sy...   \n",
       "2  CHARLES H. MEISNER, one of the prosperous and ...   \n",
       "3  EVER WONDER WHY SOME PEOPLE CAN WORK NIGHTS AN...   \n",
       "4  Conduct effective product control and valuatio...   \n",
       "\n",
       "                                              source  \\\n",
       "0  https://www.kentlive.news/news/sevenoaks-mum-w...   \n",
       "1                https://jmtd.net/log/geek/linux/ui/   \n",
       "2  http://synergistic-technologies.com/biocmeisne...   \n",
       "3  https://www.spineprochiropractic.com/sleep-why...   \n",
       "4  https://www.jobable.com/bank-of-china-jobs/hon...   \n",
       "\n",
       "                                              google  \\\n",
       "0  Женщина, погибшая после падения с моста через ...   \n",
       "1  система обмена сообщениями, разработанная как ...   \n",
       "2  ЧАРЛЬЗ Х. МЕЙСНЕР, один из преуспевающих и ува...   \n",
       "3  Вы когда-нибудь задумывались, почему некоторые...   \n",
       "4  Проводить эффективный продуктовый контроль и к...   \n",
       "\n",
       "                                               deepl  \n",
       "0  Женщина, погибшая после падения с моста через ...  \n",
       "1  система обмена сообщениями, созданная как сист...  \n",
       "2  Чарльз Х. Майснер, один из преуспевающих и ува...  \n",
       "3  ВЫ КОГДА-НИБУДЬ ЗАДУМЫВАЛИСЬ, ПОЧЕМУ НЕКОТОРЫЕ...  \n",
       "4  Осуществлять эффективный продуктовый контроль ...  "
      ]
     },
     "execution_count": 2,
     "metadata": {},
     "output_type": "execute_result"
    }
   ],
   "source": [
    "trans_dl_go = pd.read_csv('data/trans_dl_go.csv')\n",
    "trans_dl_go.head()"
   ]
  },
  {
   "cell_type": "code",
   "execution_count": 3,
   "metadata": {},
   "outputs": [
    {
     "data": {
      "text/html": [
       "<div>\n",
       "<style scoped>\n",
       "    .dataframe tbody tr th:only-of-type {\n",
       "        vertical-align: middle;\n",
       "    }\n",
       "\n",
       "    .dataframe tbody tr th {\n",
       "        vertical-align: top;\n",
       "    }\n",
       "\n",
       "    .dataframe thead th {\n",
       "        text-align: right;\n",
       "    }\n",
       "</style>\n",
       "<table border=\"1\" class=\"dataframe\">\n",
       "  <thead>\n",
       "    <tr style=\"text-align: right;\">\n",
       "      <th></th>\n",
       "      <th>sentence</th>\n",
       "      <th>source</th>\n",
       "      <th>trans</th>\n",
       "    </tr>\n",
       "  </thead>\n",
       "  <tbody>\n",
       "    <tr>\n",
       "      <th>0</th>\n",
       "      <td>The woman who died after falling from a bridge...</td>\n",
       "      <td>https://www.kentlive.news/news/sevenoaks-mum-w...</td>\n",
       "      <td>Женщина, которая погибла после падения с моста...</td>\n",
       "    </tr>\n",
       "    <tr>\n",
       "      <th>1</th>\n",
       "      <td>messaging system designed as a plugin-based sy...</td>\n",
       "      <td>https://jmtd.net/log/geek/linux/ui/</td>\n",
       "      <td>система обмена сообщениями, разработанная как ...</td>\n",
       "    </tr>\n",
       "    <tr>\n",
       "      <th>2</th>\n",
       "      <td>CHARLES H. MEISNER, one of the prosperous and ...</td>\n",
       "      <td>http://synergistic-technologies.com/biocmeisne...</td>\n",
       "      <td>ЧАРЛЬЗ Х. МЕЙСНЕР, один из процветающих и высо...</td>\n",
       "    </tr>\n",
       "    <tr>\n",
       "      <th>3</th>\n",
       "      <td>EVER WONDER WHY SOME PEOPLE CAN WORK NIGHTS AN...</td>\n",
       "      <td>https://www.spineprochiropractic.com/sleep-why...</td>\n",
       "      <td>ВЫ НИКОГДА НЕ ЗАДУМЫВАЛИСЬ, ПОЧЕМУ НЕКОТОРЫЕ Л...</td>\n",
       "    </tr>\n",
       "    <tr>\n",
       "      <th>4</th>\n",
       "      <td>Conduct effective product control and valuatio...</td>\n",
       "      <td>https://www.jobable.com/bank-of-china-jobs/hon...</td>\n",
       "      <td>Осуществлять эффективный контроль продуктов и ...</td>\n",
       "    </tr>\n",
       "  </tbody>\n",
       "</table>\n",
       "</div>"
      ],
      "text/plain": [
       "                                            sentence  \\\n",
       "0  The woman who died after falling from a bridge...   \n",
       "1  messaging system designed as a plugin-based sy...   \n",
       "2  CHARLES H. MEISNER, one of the prosperous and ...   \n",
       "3  EVER WONDER WHY SOME PEOPLE CAN WORK NIGHTS AN...   \n",
       "4  Conduct effective product control and valuatio...   \n",
       "\n",
       "                                              source  \\\n",
       "0  https://www.kentlive.news/news/sevenoaks-mum-w...   \n",
       "1                https://jmtd.net/log/geek/linux/ui/   \n",
       "2  http://synergistic-technologies.com/biocmeisne...   \n",
       "3  https://www.spineprochiropractic.com/sleep-why...   \n",
       "4  https://www.jobable.com/bank-of-china-jobs/hon...   \n",
       "\n",
       "                                               trans  \n",
       "0  Женщина, которая погибла после падения с моста...  \n",
       "1  система обмена сообщениями, разработанная как ...  \n",
       "2  ЧАРЛЬЗ Х. МЕЙСНЕР, один из процветающих и высо...  \n",
       "3  ВЫ НИКОГДА НЕ ЗАДУМЫВАЛИСЬ, ПОЧЕМУ НЕКОТОРЫЕ Л...  \n",
       "4  Осуществлять эффективный контроль продуктов и ...  "
      ]
     },
     "execution_count": 3,
     "metadata": {},
     "output_type": "execute_result"
    }
   ],
   "source": [
    "trans_ya = pd.read_json('data/trans_ya.json')\n",
    "trans_ya.head()"
   ]
  },
  {
   "cell_type": "code",
   "execution_count": 4,
   "metadata": {},
   "outputs": [],
   "source": [
    "assert all(ya_s == s for ya_s, s in zip(trans_ya.sentence, trans_dl_go.sentence)), 'Sentences are not the same'"
   ]
  },
  {
   "cell_type": "code",
   "execution_count": 5,
   "metadata": {},
   "outputs": [],
   "source": [
    "trans_dl_go['yandex'] = trans_ya.trans"
   ]
  },
  {
   "cell_type": "code",
   "execution_count": 6,
   "metadata": {},
   "outputs": [],
   "source": [
    "save_path = 'data/dataset.csv'\n",
    "trans_dl_go.to_csv(save_path, index=False)"
   ]
  }
 ],
 "metadata": {
  "kernelspec": {
   "display_name": "Python 3",
   "language": "python",
   "name": "python3"
  },
  "language_info": {
   "codemirror_mode": {
    "name": "ipython",
    "version": 3
   },
   "file_extension": ".py",
   "mimetype": "text/x-python",
   "name": "python",
   "nbconvert_exporter": "python",
   "pygments_lexer": "ipython3",
   "version": "3.11.4"
  },
  "orig_nbformat": 4
 },
 "nbformat": 4,
 "nbformat_minor": 2
}
