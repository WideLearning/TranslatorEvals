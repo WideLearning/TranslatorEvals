{
 "cells": [
  {
   "cell_type": "code",
   "execution_count": 4,
   "metadata": {},
   "outputs": [
    {
     "data": {
      "text/html": [
       "<div>\n",
       "<style scoped>\n",
       "    .dataframe tbody tr th:only-of-type {\n",
       "        vertical-align: middle;\n",
       "    }\n",
       "\n",
       "    .dataframe tbody tr th {\n",
       "        vertical-align: top;\n",
       "    }\n",
       "\n",
       "    .dataframe thead th {\n",
       "        text-align: right;\n",
       "    }\n",
       "</style>\n",
       "<table border=\"1\" class=\"dataframe\">\n",
       "  <thead>\n",
       "    <tr style=\"text-align: right;\">\n",
       "      <th></th>\n",
       "      <th>sentence</th>\n",
       "      <th>source</th>\n",
       "    </tr>\n",
       "  </thead>\n",
       "  <tbody>\n",
       "    <tr>\n",
       "      <th>0</th>\n",
       "      <td>The woman who died after falling from a bridge...</td>\n",
       "      <td>https://www.kentlive.news/news/sevenoaks-mum-w...</td>\n",
       "    </tr>\n",
       "    <tr>\n",
       "      <th>1</th>\n",
       "      <td>messaging system designed as a plugin-based sy...</td>\n",
       "      <td>https://jmtd.net/log/geek/linux/ui/</td>\n",
       "    </tr>\n",
       "    <tr>\n",
       "      <th>2</th>\n",
       "      <td>CHARLES H. MEISNER, one of the prosperous and ...</td>\n",
       "      <td>http://synergistic-technologies.com/biocmeisne...</td>\n",
       "    </tr>\n",
       "    <tr>\n",
       "      <th>3</th>\n",
       "      <td>EVER WONDER WHY SOME PEOPLE CAN WORK NIGHTS AN...</td>\n",
       "      <td>https://www.spineprochiropractic.com/sleep-why...</td>\n",
       "    </tr>\n",
       "    <tr>\n",
       "      <th>4</th>\n",
       "      <td>Conduct effective product control and valuatio...</td>\n",
       "      <td>https://www.jobable.com/bank-of-china-jobs/hon...</td>\n",
       "    </tr>\n",
       "  </tbody>\n",
       "</table>\n",
       "</div>"
      ],
      "text/plain": [
       "                                            sentence  \\\n",
       "0  The woman who died after falling from a bridge...   \n",
       "1  messaging system designed as a plugin-based sy...   \n",
       "2  CHARLES H. MEISNER, one of the prosperous and ...   \n",
       "3  EVER WONDER WHY SOME PEOPLE CAN WORK NIGHTS AN...   \n",
       "4  Conduct effective product control and valuatio...   \n",
       "\n",
       "                                              source  \n",
       "0  https://www.kentlive.news/news/sevenoaks-mum-w...  \n",
       "1                https://jmtd.net/log/geek/linux/ui/  \n",
       "2  http://synergistic-technologies.com/biocmeisne...  \n",
       "3  https://www.spineprochiropractic.com/sleep-why...  \n",
       "4  https://www.jobable.com/bank-of-china-jobs/hon...  "
      ]
     },
     "execution_count": 4,
     "metadata": {},
     "output_type": "execute_result"
    }
   ],
   "source": [
    "import pandas as pd\n",
    "\n",
    "data = pd.read_csv('data/text_dataset.csv')\n",
    "data.head()"
   ]
  },
  {
   "cell_type": "code",
   "execution_count": 7,
   "metadata": {},
   "outputs": [],
   "source": [
    "import os\n",
    "from deep_translator import GoogleTranslator, YandexTranslator, DeeplTranslator\n",
    "\n",
    "class GoogleTranslate:\n",
    "    def __init__(self):\n",
    "        self.translator = GoogleTranslator(source='en', target='ru')\n",
    "\n",
    "    def __call__(self, sentence):\n",
    "        return self.translator.translate(sentence)\n",
    "\n",
    "class YandexTranslate:\n",
    "    def __init__(self, api_key):\n",
    "        self.translator = YandexTranslator(api_key=api_key, source='en', target='ru')\n",
    "\n",
    "    def __call__(self, sentence):\n",
    "        return self.translator.translate(sentence)\n",
    "\n",
    "class DeepLTranslate:\n",
    "    def __init__(self, api_key):\n",
    "        self.translator = DeeplTranslator(api_key=api_key, source='en', target='ru')\n",
    "\n",
    "    def __call__(self, sentence):\n",
    "        return self.translator.translate(sentence)\n"
   ]
  },
  {
   "cell_type": "markdown",
   "metadata": {},
   "source": [
    "Note: We don't have access to YaTranslator so we comment it here"
   ]
  },
  {
   "cell_type": "code",
   "execution_count": 8,
   "metadata": {},
   "outputs": [
    {
     "name": "stdout",
     "output_type": "stream",
     "text": [
      "Google Translate: Привет, мир!\n",
      "DeepL Translate: Здравствуйте, мир!\n"
     ]
    }
   ],
   "source": [
    "DEEPL_API_KEY = os.environ[\"DEEPL_API_KEY\"]\n",
    "\n",
    "# Initialize the translators\n",
    "google_translate = GoogleTranslate()\n",
    "# yandex_translate = YandexTranslate(YANDEX_API_KEY)\n",
    "deepl_translate = DeepLTranslate(DEEPL_API_KEY)\n",
    "\n",
    "# Test the classes\n",
    "sentence = \"Hello, world!\"\n",
    "\n",
    "print(\"Google Translate:\", google_translate(sentence))\n",
    "# print(\"Yandex Translate:\", yandex_translate(sentence))\n",
    "print(\"DeepL Translate:\", deepl_translate(sentence))"
   ]
  },
  {
   "cell_type": "code",
   "execution_count": 9,
   "metadata": {},
   "outputs": [
    {
     "name": "stdout",
     "output_type": "stream",
     "text": [
      "Translating with google translator...\n",
      "Translating with deepl translator...\n"
     ]
    }
   ],
   "source": [
    "tran_names = ['google', 'deepl']\n",
    "trans = [google_translate, deepl_translate]\n",
    "\n",
    "for name, tr in zip(tran_names, trans):\n",
    "    print(f\"Translating with {name} translator...\")\n",
    "    data[name] = data['text'].apply(tr)"
   ]
  },
  {
   "cell_type": "code",
   "execution_count": 10,
   "metadata": {},
   "outputs": [
    {
     "data": {
      "text/html": [
       "<div>\n",
       "<style scoped>\n",
       "    .dataframe tbody tr th:only-of-type {\n",
       "        vertical-align: middle;\n",
       "    }\n",
       "\n",
       "    .dataframe tbody tr th {\n",
       "        vertical-align: top;\n",
       "    }\n",
       "\n",
       "    .dataframe thead th {\n",
       "        text-align: right;\n",
       "    }\n",
       "</style>\n",
       "<table border=\"1\" class=\"dataframe\">\n",
       "  <thead>\n",
       "    <tr style=\"text-align: right;\">\n",
       "      <th></th>\n",
       "      <th>sentence</th>\n",
       "      <th>source</th>\n",
       "      <th>google</th>\n",
       "      <th>deepl</th>\n",
       "    </tr>\n",
       "  </thead>\n",
       "  <tbody>\n",
       "    <tr>\n",
       "      <th>0</th>\n",
       "      <td>The woman who died after falling from a bridge...</td>\n",
       "      <td>https://www.kentlive.news/news/sevenoaks-mum-w...</td>\n",
       "      <td>Женщина, погибшая после падения с моста через ...</td>\n",
       "      <td>Женщина, погибшая после падения с моста через ...</td>\n",
       "    </tr>\n",
       "    <tr>\n",
       "      <th>1</th>\n",
       "      <td>messaging system designed as a plugin-based sy...</td>\n",
       "      <td>https://jmtd.net/log/geek/linux/ui/</td>\n",
       "      <td>система обмена сообщениями, разработанная как ...</td>\n",
       "      <td>система обмена сообщениями, созданная как сист...</td>\n",
       "    </tr>\n",
       "    <tr>\n",
       "      <th>2</th>\n",
       "      <td>CHARLES H. MEISNER, one of the prosperous and ...</td>\n",
       "      <td>http://synergistic-technologies.com/biocmeisne...</td>\n",
       "      <td>ЧАРЛЬЗ Х. МЕЙСНЕР, один из преуспевающих и ува...</td>\n",
       "      <td>Чарльз Х. Майснер, один из преуспевающих и ува...</td>\n",
       "    </tr>\n",
       "    <tr>\n",
       "      <th>3</th>\n",
       "      <td>EVER WONDER WHY SOME PEOPLE CAN WORK NIGHTS AN...</td>\n",
       "      <td>https://www.spineprochiropractic.com/sleep-why...</td>\n",
       "      <td>Вы когда-нибудь задумывались, почему некоторые...</td>\n",
       "      <td>ВЫ КОГДА-НИБУДЬ ЗАДУМЫВАЛИСЬ, ПОЧЕМУ НЕКОТОРЫЕ...</td>\n",
       "    </tr>\n",
       "    <tr>\n",
       "      <th>4</th>\n",
       "      <td>Conduct effective product control and valuatio...</td>\n",
       "      <td>https://www.jobable.com/bank-of-china-jobs/hon...</td>\n",
       "      <td>Проводить эффективный продуктовый контроль и к...</td>\n",
       "      <td>Осуществлять эффективный продуктовый контроль ...</td>\n",
       "    </tr>\n",
       "  </tbody>\n",
       "</table>\n",
       "</div>"
      ],
      "text/plain": [
       "                                            sentence  \\\n",
       "0  The woman who died after falling from a bridge...   \n",
       "1  messaging system designed as a plugin-based sy...   \n",
       "2  CHARLES H. MEISNER, one of the prosperous and ...   \n",
       "3  EVER WONDER WHY SOME PEOPLE CAN WORK NIGHTS AN...   \n",
       "4  Conduct effective product control and valuatio...   \n",
       "\n",
       "                                              source  \\\n",
       "0  https://www.kentlive.news/news/sevenoaks-mum-w...   \n",
       "1                https://jmtd.net/log/geek/linux/ui/   \n",
       "2  http://synergistic-technologies.com/biocmeisne...   \n",
       "3  https://www.spineprochiropractic.com/sleep-why...   \n",
       "4  https://www.jobable.com/bank-of-china-jobs/hon...   \n",
       "\n",
       "                                              google  \\\n",
       "0  Женщина, погибшая после падения с моста через ...   \n",
       "1  система обмена сообщениями, разработанная как ...   \n",
       "2  ЧАРЛЬЗ Х. МЕЙСНЕР, один из преуспевающих и ува...   \n",
       "3  Вы когда-нибудь задумывались, почему некоторые...   \n",
       "4  Проводить эффективный продуктовый контроль и к...   \n",
       "\n",
       "                                               deepl  \n",
       "0  Женщина, погибшая после падения с моста через ...  \n",
       "1  система обмена сообщениями, созданная как сист...  \n",
       "2  Чарльз Х. Майснер, один из преуспевающих и ува...  \n",
       "3  ВЫ КОГДА-НИБУДЬ ЗАДУМЫВАЛИСЬ, ПОЧЕМУ НЕКОТОРЫЕ...  \n",
       "4  Осуществлять эффективный продуктовый контроль ...  "
      ]
     },
     "execution_count": 10,
     "metadata": {},
     "output_type": "execute_result"
    }
   ],
   "source": [
    "data.head()"
   ]
  },
  {
   "cell_type": "code",
   "execution_count": null,
   "metadata": {},
   "outputs": [],
   "source": [
    "save_path = 'data/trans_dl_go.csv'\n",
    "data = pd.to_csv(save_path)"
   ]
  }
 ],
 "metadata": {
  "kernelspec": {
   "display_name": "Python 3",
   "language": "python",
   "name": "python3"
  },
  "language_info": {
   "codemirror_mode": {
    "name": "ipython",
    "version": 3
   },
   "file_extension": ".py",
   "mimetype": "text/x-python",
   "name": "python",
   "nbconvert_exporter": "python",
   "pygments_lexer": "ipython3",
   "version": "3.11.4"
  },
  "orig_nbformat": 4
 },
 "nbformat": 4,
 "nbformat_minor": 2
}
