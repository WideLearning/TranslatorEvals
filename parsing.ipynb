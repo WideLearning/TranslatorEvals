{
 "cells": [
  {
   "cell_type": "code",
   "execution_count": 6,
   "metadata": {},
   "outputs": [
    {
     "data": {
      "text/plain": [
       "'The woman who died after falling from a bridge over the A21 has been identified as a Sevenoaks mum. Marta Kendle, 37, fell from the Gracious Lane bridge on the morning of February 19. Police were called to the carriageway around 6.10am and the road was promptly closed in both directions. Despite paramedics best efforts, Marta, who was originally from Poland, was pronounced dead at the scene. Kent and Medway Coroners office have confirmed an inquest into her death will open on Wednesday (February 27). Tributes to the mum were left at the scene and on social media. Friend, Jodi Cahill posted on Facebook: \"I will certainly remember you. I am sorry we did not see how lost and alone you felt. \"Be at peace dear Marta.\" A floral tribute left at the scene said goodbye to the \"beautiful and kind soul\". It read: \"To a beautiful and kind soul, we are sorry we didn&apos;t see your pain. We will miss you always. \"Rest in peace Marta, Love from Lorraine, Colin and family.\" The inquest will take place at the Archbishop&apos;s Palace in Maidstone and will examine the circumstances surrounding Mrs Kendle&apos;s death. Are you struggling or know someone who is? Watch our video below to find out how the Samaritans could help. Mrs Kendle&apos;s death prompted the setting up of a petition calling for higher railings along the Gracious Lane bridge by Sevenoaks Common - to prevent people falling and to protect drivers from below. By today (February 25) 4,500 people had signed. The same site was the scene of another death in July last year when Southborough woman, Angela Skinner, 54, also died after falling on to the A21.'"
      ]
     },
     "execution_count": 6,
     "metadata": {},
     "output_type": "execute_result"
    }
   ],
   "source": [
    "path_to_texts = 'data/unparsed_texts.txt'\n",
    "with open(path_to_texts, 'r') as f:\n",
    "    texts = f.readlines()\n",
    "\n",
    "# strip both spaces and quotes\n",
    "texts = [text.strip().strip('\"') for text in texts]\n",
    "texts[0]"
   ]
  },
  {
   "cell_type": "code",
   "execution_count": 7,
   "metadata": {},
   "outputs": [
    {
     "data": {
      "text/html": [
       "<div>\n",
       "<style scoped>\n",
       "    .dataframe tbody tr th:only-of-type {\n",
       "        vertical-align: middle;\n",
       "    }\n",
       "\n",
       "    .dataframe tbody tr th {\n",
       "        vertical-align: top;\n",
       "    }\n",
       "\n",
       "    .dataframe thead th {\n",
       "        text-align: right;\n",
       "    }\n",
       "</style>\n",
       "<table border=\"1\" class=\"dataframe\">\n",
       "  <thead>\n",
       "    <tr style=\"text-align: right;\">\n",
       "      <th></th>\n",
       "      <th>sentence</th>\n",
       "      <th>source</th>\n",
       "    </tr>\n",
       "  </thead>\n",
       "  <tbody>\n",
       "    <tr>\n",
       "      <th>0</th>\n",
       "      <td>The woman who died after falling from a bridge...</td>\n",
       "      <td>https://www.kentlive.news/news/sevenoaks-mum-w...</td>\n",
       "    </tr>\n",
       "    <tr>\n",
       "      <th>1</th>\n",
       "      <td>messaging system designed as a plugin-based sy...</td>\n",
       "      <td>https://jmtd.net/log/geek/linux/ui/</td>\n",
       "    </tr>\n",
       "  </tbody>\n",
       "</table>\n",
       "</div>"
      ],
      "text/plain": [
       "                                            sentence  \\\n",
       "0  The woman who died after falling from a bridge...   \n",
       "1  messaging system designed as a plugin-based sy...   \n",
       "\n",
       "                                              source  \n",
       "0  https://www.kentlive.news/news/sevenoaks-mum-w...  \n",
       "1                https://jmtd.net/log/geek/linux/ui/  "
      ]
     },
     "execution_count": 7,
     "metadata": {},
     "output_type": "execute_result"
    }
   ],
   "source": [
    "import pandas as pd\n",
    "# 1, 4, ... samples are texts, 3, 6, ... are sources\n",
    "assert len(texts) % 3 == 0\n",
    "\n",
    "sentence = texts[::3]\n",
    "source = texts[2::3]\n",
    "data = pd.DataFrame({'sentence': sentence, 'source': source})\n",
    "data.head(2)"
   ]
  },
  {
   "cell_type": "code",
   "execution_count": 8,
   "metadata": {},
   "outputs": [
    {
     "name": "stdout",
     "output_type": "stream",
     "text": [
      "Removed 22 sentences that were longer than 4900 characters\n",
      "Number of sentences left: 278\n"
     ]
    }
   ],
   "source": [
    "# remove all sentences that are longer than max characters\n",
    "max_chars = 4900\n",
    "len_before = len(data)\n",
    "data = data[data['sentence'].apply(lambda x: len(x) < max_chars)]\n",
    "\n",
    "print('Removed {} sentences that were longer than {} characters'.format(len_before - len(data), max_chars))\n",
    "print('Number of sentences left: {}'.format(len(data)))"
   ]
  },
  {
   "cell_type": "code",
   "execution_count": 4,
   "metadata": {},
   "outputs": [],
   "source": [
    "data.to_csv('data/text_dataset.csv', index=False)"
   ]
  }
 ],
 "metadata": {
  "kernelspec": {
   "display_name": "Python 3",
   "language": "python",
   "name": "python3"
  },
  "language_info": {
   "codemirror_mode": {
    "name": "ipython",
    "version": 3
   },
   "file_extension": ".py",
   "mimetype": "text/x-python",
   "name": "python",
   "nbconvert_exporter": "python",
   "pygments_lexer": "ipython3",
   "version": "3.11.4"
  },
  "orig_nbformat": 4
 },
 "nbformat": 4,
 "nbformat_minor": 2
}
