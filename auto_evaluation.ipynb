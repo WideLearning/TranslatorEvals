{
 "cells": [
  {
   "cell_type": "code",
   "execution_count": 2,
   "metadata": {},
   "outputs": [],
   "source": [
    "import os\n",
    "import openai_async\n",
    "import pandas as pd\n",
    "import asyncio\n",
    "import random"
   ]
  },
  {
   "cell_type": "code",
   "execution_count": 3,
   "metadata": {},
   "outputs": [],
   "source": [
    "api_key = os.environ[\"OPENAI_API_KEY\"]\n",
    "available_models = [\n",
    "    \"gpt-3.5-turbo-16k-0613\",\n",
    "    \"gpt-3.5-turbo-16k\",\n",
    "]"
   ]
  },
  {
   "cell_type": "code",
   "execution_count": 11,
   "metadata": {},
   "outputs": [],
   "source": [
    "def format_prompt(original: str, translations: list[str]) -> str:\n",
    "    assert len(translations) == 3\n",
    "    prefix = \"You are given an original sentence in English and three candidate translations. Which of them conveys the original meaning in the most accurate and fluent way? Print 1, 2 or 3.\"\n",
    "    add_index = lambda idx_text: f\"{idx_text[0]}) {idx_text[1]}\"\n",
    "    options = list(map(add_index, enumerate(translations, 1)))\n",
    "    return \"\\n\".join([prefix, original] + options)\n",
    "\n",
    "\n",
    "async def select(model: str, original: str, translations: list[str]) -> int | None:\n",
    "    completion = await openai_async.chat_complete(\n",
    "        api_key=api_key,\n",
    "        timeout=60,\n",
    "        payload={\n",
    "            \"model\": model,\n",
    "            \"messages\": [\n",
    "                {\n",
    "                    \"role\": \"system\",\n",
    "                    \"content\": \"You are a native Russian speaker who is also completely fluent in English.\",\n",
    "                },\n",
    "                {\"role\": \"user\", \"content\": format_prompt(original, translations)},\n",
    "            ],\n",
    "        },\n",
    "    )\n",
    "    try:\n",
    "        # taking the first symbol to gracefully handle the cases where model prints entire translation\n",
    "        result = int(completion.json()[\"choices\"][0][\"message\"][\"content\"][0])\n",
    "        assert 1 <= result <= 3\n",
    "        return result - 1\n",
    "    except Exception as e:\n",
    "        print(e)\n",
    "        return None"
   ]
  },
  {
   "cell_type": "code",
   "execution_count": 12,
   "metadata": {},
   "outputs": [
    {
     "name": "stdout",
     "output_type": "stream",
     "text": [
      "You are given an original sentence in English and three candidate translations. Which of them conveys the original meaning in the most accurate and fluent way? Print 1, 2 or 3.\n",
      "Hello, world!\n",
      "1) Привет, мир!\n",
      "2) Здравствуй, мир.\n",
      "3) Hi!\n"
     ]
    }
   ],
   "source": [
    "print(format_prompt(\"Hello, world!\", [\"Привет, мир!\", \"Здравствуй, мир.\", \"Hi!\"]))"
   ]
  },
  {
   "cell_type": "code",
   "execution_count": 25,
   "metadata": {},
   "outputs": [],
   "source": [
    "async def run_evaluation(dataset: list[pd.Series]) -> tuple[list[int], list[list[str]], list[str]]:\n",
    "    n = len(dataset)\n",
    "    choice = [-1 for i in range(n)]\n",
    "    labels = [[] for i in range(n)]\n",
    "    model = [\"\" for i in range(n)]\n",
    "\n",
    "    async def task(idx: int, row: pd.Series) -> None:\n",
    "        model[idx] = random.choice(available_models)\n",
    "        labels[idx] = [\"google\", \"deepl\", \"yandex\"]\n",
    "        random.shuffle(labels[idx])\n",
    "        original = row[\"sentence\"]\n",
    "        translations = [row[label] for label in labels[idx]]\n",
    "        print(\"starting select\", idx)\n",
    "        choice[idx] = await select(model[idx], original, translations)\n",
    "        print(\"done with select\", idx)\n",
    "\n",
    "    await asyncio.gather(*[task(idx, row) for idx, (_df_idx, row) in enumerate(dataset)])\n",
    "    return choice, labels, model"
   ]
  },
  {
   "cell_type": "code",
   "execution_count": 28,
   "metadata": {},
   "outputs": [
    {
     "name": "stdout",
     "output_type": "stream",
     "text": [
      "starting select 0\n",
      "starting select 1\n",
      "starting select 2\n",
      "done with select 0\n",
      "done with select 1\n",
      "done with select 2\n"
     ]
    }
   ],
   "source": [
    "dataset = list(pd.read_csv(\"data/dataset.csv\").iterrows())\n",
    "choice, labels, model = await run_evaluation(dataset[:10])"
   ]
  },
  {
   "cell_type": "code",
   "execution_count": 29,
   "metadata": {},
   "outputs": [
    {
     "name": "stdout",
     "output_type": "stream",
     "text": [
      "[0, 0, 0]\n",
      "[['deepl', 'yandex', 'google'], ['deepl', 'google', 'yandex'], ['google', 'deepl', 'yandex']]\n",
      "['gpt-3.5-turbo-16k', 'gpt-3.5-turbo-16k-0613', 'gpt-3.5-turbo-16k']\n"
     ]
    }
   ],
   "source": [
    "print(choice)\n",
    "print(labels)\n",
    "print(model)"
   ]
  }
 ],
 "metadata": {
  "kernelspec": {
   "display_name": "Python 3",
   "language": "python",
   "name": "python3"
  },
  "language_info": {
   "codemirror_mode": {
    "name": "ipython",
    "version": 3
   },
   "file_extension": ".py",
   "mimetype": "text/x-python",
   "name": "python",
   "nbconvert_exporter": "python",
   "pygments_lexer": "ipython3",
   "version": "3.10.12"
  },
  "orig_nbformat": 4
 },
 "nbformat": 4,
 "nbformat_minor": 2
}
