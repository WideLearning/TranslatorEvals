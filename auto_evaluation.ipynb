{
 "cells": [
  {
   "cell_type": "code",
   "execution_count": 66,
   "metadata": {},
   "outputs": [],
   "source": [
    "import os\n",
    "import openai_async\n",
    "import pandas as pd\n",
    "import asyncio\n",
    "import random\n",
    "from typing import Any"
   ]
  },
  {
   "cell_type": "code",
   "execution_count": 3,
   "metadata": {},
   "outputs": [],
   "source": [
    "api_key = os.environ[\"OPENAI_API_KEY\"]\n",
    "available_models = [\n",
    "    \"gpt-3.5-turbo-16k-0613\",\n",
    "    \"gpt-3.5-turbo-16k\",\n",
    "]"
   ]
  },
  {
   "cell_type": "code",
   "execution_count": 38,
   "metadata": {},
   "outputs": [],
   "source": [
    "def format_prompt(original: str, translations: list[str]) -> str:\n",
    "    assert len(translations) == 3\n",
    "    prefix = \"You are given an original sentence in English and three candidate translations. Which of them conveys the original meaning in the most accurate and fluent way? Score each one from 1 to 10, print only these three numbers, separated by spaces.\"\n",
    "    add_index = lambda idx_text: f\"{idx_text[0]}) {idx_text[1]}\"\n",
    "    options = list(map(add_index, enumerate(translations, 1)))\n",
    "    return \"\\n\".join([prefix, original] + options)\n",
    "\n",
    "\n",
    "async def select(model: str, original: str, translations: list[str]) -> list[int] | None:\n",
    "    completion = await openai_async.chat_complete(\n",
    "        api_key=api_key,\n",
    "        timeout=60,\n",
    "        payload={\n",
    "            \"model\": model,\n",
    "            \"messages\": [\n",
    "                {\n",
    "                    \"role\": \"system\",\n",
    "                    \"content\": \"You are a native Russian speaker who is also completely fluent in English.\",\n",
    "                },\n",
    "                {\"role\": \"user\", \"content\": format_prompt(original, translations)},\n",
    "            ],\n",
    "        },\n",
    "    )\n",
    "    try:\n",
    "        content = completion.json()[\"choices\"][0][\"message\"][\"content\"]\n",
    "        pieces = content.split()[:3]\n",
    "        assert len(pieces) == 3\n",
    "        scores = list(map(int, pieces))\n",
    "        assert 1 <= min(scores) and max(scores) <= 10\n",
    "        return scores\n",
    "    except Exception as e:\n",
    "        print(e)\n",
    "        return None"
   ]
  },
  {
   "cell_type": "code",
   "execution_count": 36,
   "metadata": {},
   "outputs": [
    {
     "name": "stdout",
     "output_type": "stream",
     "text": [
      "You are given an original sentence in English and three candidate translations. Which of them conveys the original meaning in the most accurate and fluent way? Score each one from 1 to 10, print only these three numbers, separated by spaces.\n",
      "Hello, world!\n",
      "1) Привет, мир!\n",
      "2) Здравствуй, мир.\n",
      "3) Hi!\n"
     ]
    }
   ],
   "source": [
    "print(format_prompt(\"Hello, world!\", [\"Привет, мир!\", \"Здравствуй, мир.\", \"Hi!\"]))"
   ]
  },
  {
   "cell_type": "code",
   "execution_count": 42,
   "metadata": {},
   "outputs": [],
   "source": [
    "async def run_evaluation(dataset: list[tuple[Any, pd.Series]]) -> tuple[list[list[int]], list[list[str]], list[str]]:\n",
    "    n = len(dataset)\n",
    "    scores = [[] for i in range(n)]\n",
    "    labels = [[] for i in range(n)]\n",
    "    model = [\"\" for i in range(n)]\n",
    "\n",
    "    async def task(idx: int, row: pd.Series) -> None:\n",
    "        model[idx] = random.choice(available_models)\n",
    "        labels[idx] = [\"google\", \"deepl\", \"yandex\"]\n",
    "        random.shuffle(labels[idx])\n",
    "        original = row[\"sentence\"]\n",
    "        translations = [row[label] for label in labels[idx]]\n",
    "        print(\"starting select\", idx)\n",
    "        scores[idx] = await select(model[idx], original, translations)\n",
    "        print(\"done with select\", idx)\n",
    "\n",
    "    await asyncio.gather(*[task(idx, row) for idx, (_df_idx, row) in enumerate(dataset)])\n",
    "    return scores, labels, model"
   ]
  },
  {
   "cell_type": "code",
   "execution_count": null,
   "metadata": {},
   "outputs": [],
   "source": [
    "dataset = list(pd.read_csv(\"data/dataset.csv\").iterrows())\n",
    "scores, labels, model = await run_evaluation(dataset[200:300])"
   ]
  },
  {
   "cell_type": "code",
   "execution_count": null,
   "metadata": {},
   "outputs": [],
   "source": [
    "for c, l, m in zip(scores, labels, model):\n",
    "    try:\n",
    "        print(*c, *l, m, sep=\",\")\n",
    "    except:\n",
    "        print(\",,,,,,\")"
   ]
  }
 ],
 "metadata": {
  "kernelspec": {
   "display_name": "Python 3",
   "language": "python",
   "name": "python3"
  },
  "language_info": {
   "codemirror_mode": {
    "name": "ipython",
    "version": 3
   },
   "file_extension": ".py",
   "mimetype": "text/x-python",
   "name": "python",
   "nbconvert_exporter": "python",
   "pygments_lexer": "ipython3",
   "version": "3.10.12"
  },
  "orig_nbformat": 4
 },
 "nbformat": 4,
 "nbformat_minor": 2
}
